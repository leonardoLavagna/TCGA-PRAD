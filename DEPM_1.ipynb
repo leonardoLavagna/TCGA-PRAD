{
  "nbformat": 4,
  "nbformat_minor": 0,
  "metadata": {
    "colab": {
      "provenance": [],
      "collapsed_sections": [],
      "authorship_tag": "ABX9TyNyQ3/sF1cv/Lg+0/D0JFBU",
      "include_colab_link": true
    },
    "kernelspec": {
      "name": "ir",
      "display_name": "R"
    },
    "language_info": {
      "name": "R"
    }
  },
  "cells": [
    {
      "cell_type": "markdown",
      "metadata": {
        "id": "view-in-github",
        "colab_type": "text"
      },
      "source": [
        "<a href=\"https://colab.research.google.com/github/leonardoLavagna/TCGA-PRAD/blob/main/DEPM_1.ipynb\" target=\"_parent\"><img src=\"https://colab.research.google.com/assets/colab-badge.svg\" alt=\"Open In Colab\"/></a>"
      ]
    },
    {
      "cell_type": "markdown",
      "source": [
        "# DEPM First Project \n",
        "# Prostate Adenocarcinoma TCGA-PRAD  \n",
        "\n"
      ],
      "metadata": {
        "id": "MAuaB9ejbv8x"
      }
    },
    {
      "cell_type": "markdown",
      "source": [
        "## PART I DATA \n",
        "### Installation of the required libraries and set up"
      ],
      "metadata": {
        "id": "P1KZamPwjJ1k"
      }
    },
    {
      "cell_type": "code",
      "execution_count": null,
      "metadata": {
        "id": "glIluPQFuGRV"
      },
      "outputs": [],
      "source": [
        "# Execute the following cell if and only if the bioconductor packages neede for this part are not installed. \n",
        "# The installation can take some time (in the order of minutes). \n",
        "# See https://bioconductor.org for more details. \n",
        "\n",
        "if (!requireNamespace(\"BiocManager\", quietly = TRUE))\n",
        "    install.packages(\"BiocManager\")\n",
        "\n",
        "BiocManager::install(\"TCGAbiolinks\")\n",
        "BiocManager::install(\"SummarizedExperiment\")"
      ]
    },
    {
      "cell_type": "code",
      "source": [
        "# Libraries for data extraction\n",
        "\n",
        "library(TCGAbiolinks)\n",
        "library(SummarizedExperiment)"
      ],
      "metadata": {
        "id": "osu4jwCmb9mJ"
      },
      "execution_count": null,
      "outputs": []
    },
    {
      "cell_type": "code",
      "source": [
        "# Directory tree set up\n",
        "\n",
        "proj <- \"TCGA-PRAD\"\n",
        "dir.create(file.path(proj))"
      ],
      "metadata": {
        "id": "BmkmuGGTb7h3"
      },
      "execution_count": 6,
      "outputs": []
    },
    {
      "cell_type": "markdown",
      "source": [
        "### Getting the Data \n",
        "For references, see https://portal.gdc.cancer.gov/projects/TCGA-PRAD."
      ],
      "metadata": {
        "id": "70-PuOFXjS8F"
      }
    },
    {
      "cell_type": "code",
      "source": [
        "# Extract primary tumor data\n",
        "\n",
        "rna.query.C <- GDCquery(project = proj, data.category = \"Transcriptome Profiling\", data.type = \"Gene Expression Quantification\", workflow.type = \"STAR - Counts\", sample.type = \"Primary Tumor\") # sample = 01 - TP\n",
        "GDCdownload(query = rna.query.C, directory = \"GDCdata\", method = \"api\")\n",
        "rna.data.C <- GDCprepare(rna.query.C)\n",
        "rna.expr.data.C <- assay(rna.data.C)\n",
        "rna.genes.info.C <- rowRanges(rna.data.C)\n",
        "rna.sample.info.C <- colData(rna.data.C)\n",
        "write.table(rna.expr.data.C, file=file.path(proj,paste(proj, \"_rna_expr_data_C.txt\",sep = \"\")), row.names=TRUE, col.names=TRUE, quote = FALSE)\n",
        "write.table(rna.sample.info.C@listData$patient, file=file.path(proj,paste(proj, \"_rna_patients_C.txt\",sep = \"\")), row.names=FALSE, col.names=FALSE, quote = FALSE)\n",
        "write.table(rna.genes.info.C@ranges@NAMES, file=file.path(proj,paste(proj, \"_rna_genes_C.txt\",sep = \"\")), row.names=FALSE, col.names=FALSE, quote = FALSE)\n"
      ],
      "metadata": {
        "id": "ilGtut1-d6HJ"
      },
      "execution_count": null,
      "outputs": []
    },
    {
      "cell_type": "code",
      "source": [
        "# Extract solid tissue normal data\n",
        "\n",
        "rna.query.N <- GDCquery(project = proj, data.category = \"Transcriptome Profiling\", data.type = \"Gene Expression Quantification\", workflow.type = \"STAR - Counts\", sample.type = \"Solid Tissue Normal\") \n",
        "GDCdownload(query = rna.query.N, directory = \"GDCdata\", method = \"api\")\n",
        "rna.data.N <- GDCprepare(rna.query.N)\n",
        "rna.expr.data.N <- assay(rna.data.N)\n",
        "rna.genes.info.N <- rowRanges(rna.data.N)\n",
        "rna.sample.info.N <- colData(rna.data.N)\n",
        "write.table(rna.expr.data.N, file=file.path(proj,paste(proj, \"_rna_expr_data_N.txt\",sep=\"\")), row.names=TRUE, col.names=TRUE, quote = FALSE)\n",
        "write.table(rna.sample.info.N@listData$patient, file=file.path(proj,paste(proj, \"_rna_patients_N.txt\",sep = \"\")), row.names=FALSE, col.names=FALSE, quote = FALSE)\n",
        "write.table(rna.genes.info.N@ranges@NAMES, file=file.path(proj,paste(proj, \"_rna_genes_N.txt\",sep = \"\")), row.names=FALSE, col.names=FALSE, quote = FALSE)\n"
      ],
      "metadata": {
        "id": "XlcHUILybWwl"
      },
      "execution_count": null,
      "outputs": []
    },
    {
      "cell_type": "code",
      "source": [
        "# Extra Information from the patients useful for future analysis\n",
        "# clinical.query<-GDCquery_clinic(project = proj, type = \"clinical\", save.csv = FALSE)\n",
        "# write.csv(clinical.query, file = file.path(proj,paste(proj, \"_clinical_data.txt\",sep=\"\")), row.names = FALSE, quote = FALSE)\n"
      ],
      "metadata": {
        "id": "9bdagf1YijgK"
      },
      "execution_count": null,
      "outputs": []
    },
    {
      "cell_type": "markdown",
      "source": [
        "\n",
        "### Processing the extracted data"
      ],
      "metadata": {
        "id": "cjn76dl1jpGP"
      }
    },
    {
      "cell_type": "markdown",
      "source": [
        "#### 1) read the condition (tumor) TCGA-PRAD dataset"
      ],
      "metadata": {
        "id": "wKFlJpOYkXYG"
      }
    },
    {
      "cell_type": "code",
      "source": [
        "rna_expr_data_C <- read.table(\"./TCGA-PRAD/TCGA-PRAD_rna_expr_data_C.txt\", header=TRUE, sep=\"\", check.names = F) \n",
        "# View(rna_expr_data_C)"
      ],
      "metadata": {
        "id": "ZN-dbwDsjqeK"
      },
      "execution_count": 15,
      "outputs": []
    },
    {
      "cell_type": "code",
      "source": [
        "rna_gene_data_C <- read.table(\"./TCGA-PRAD/TCGA-PRAD_rna_genes_C.txt\", header=FALSE, sep=\"\", check.names = F) \n",
        "# View(rna_gene_data_C)"
      ],
      "metadata": {
        "id": "ZM75lDbojyzG"
      },
      "execution_count": 18,
      "outputs": []
    },
    {
      "cell_type": "code",
      "source": [
        "rna_patients_data_C <- read.table(\"./TCGA-PRAD/TCGA-PRAD_rna_patients_C.txt\", header=FALSE, sep=\"\", check.names = F) \n",
        "# View(rna_patients_data_C)"
      ],
      "metadata": {
        "id": "2LOrnHRWkTCL"
      },
      "execution_count": 20,
      "outputs": []
    },
    {
      "cell_type": "markdown",
      "source": [
        "#### 2) read the normal (natural) TCGA-PRAD dataset"
      ],
      "metadata": {
        "id": "QszB1D3Rk7Pl"
      }
    },
    {
      "cell_type": "code",
      "source": [
        "rna_expr_data_N <- read.table(\"./TCGA-PRAD/TCGA-PRAD_rna_expr_data_N.txt\", header=TRUE, sep=\"\", check.names = F) \n",
        "# View(rna_expr_data_N)"
      ],
      "metadata": {
        "id": "cM6gwfGwk2R-"
      },
      "execution_count": 23,
      "outputs": []
    },
    {
      "cell_type": "code",
      "source": [
        "rna_gene_data_N <- read.table(\"./TCGA-PRAD/TCGA-PRAD_rna_genes_N.txt\", header=FALSE, sep=\"\", check.names = F) \n",
        "# View(rna_gene_data_N)"
      ],
      "metadata": {
        "id": "L8WuwJSdlCeb"
      },
      "execution_count": 24,
      "outputs": []
    },
    {
      "cell_type": "code",
      "source": [
        "rna_patients_data_N <- read.table(\"./TCGA-PRAD/TCGA-PRAD_rna_patients_N.txt\", header=FALSE, sep=\"\", check.names = F) \n",
        "# View(rna_patients_data_N)"
      ],
      "metadata": {
        "id": "zPHrCniBlMFb"
      },
      "execution_count": 25,
      "outputs": []
    },
    {
      "cell_type": "code",
      "source": [
        "# Extra Information from the patients useful for future analysis\n",
        "\n",
        "# clinical_data <- read.csv2(\"./TCGA-PRAD/TCGA-PRAD_clinical_data.txt\", header = FALSE, sep=\",\")\n",
        "# colnames(clinical_data) <- clinical_data[1,]; clinical_data <- clinical_data[-1,] \n",
        "# View(clinical_data)"
      ],
      "metadata": {
        "id": "ir09UECulPbL"
      },
      "execution_count": null,
      "outputs": []
    },
    {
      "cell_type": "markdown",
      "source": [
        "3) Intersection and cleaning of partecipants' data"
      ],
      "metadata": {
        "id": "xMQbfx0llq0R"
      }
    },
    {
      "cell_type": "code",
      "source": [
        "# Libraries for merging and cleaning the data\n",
        "\n",
        "library(dplyr)\n",
        "library(stringr)"
      ],
      "metadata": {
        "id": "c7SodY7Ilb6p"
      },
      "execution_count": null,
      "outputs": []
    },
    {
      "cell_type": "code",
      "source": [
        "# merge common patients\n",
        "\n",
        "common_patients <- merge(rna_patients_data_C, rna_patients_data_N, by.x=\"V1\", by.y=\"V1\")"
      ],
      "metadata": {
        "id": "FiMMuJdnl-jz"
      },
      "execution_count": 27,
      "outputs": []
    },
    {
      "cell_type": "code",
      "source": [
        "# subtract useless column between the two expression data.frames using a boolean mask\n",
        "# check for multiple patterns and use the boolean mask created to filter through the columns\n",
        "\n",
        "mask_tuned_patientsC <- str_detect(as.vector(colnames(rna_expr_data_C)), paste(as.vector(unlist(common_patients)), collapse = '|'))\n",
        "rna_expr_data_C <- rna_expr_data_C[, mask_tuned_patientsC]\n",
        "\n",
        "mask_tuned_patientsN <- str_detect(as.vector(colnames(rna_expr_data_N)), paste(as.vector(unlist(common_patients)), collapse = '|')) \n",
        "rna_expr_data_N <- rna_expr_data_N[, mask_tuned_patientsN] "
      ],
      "metadata": {
        "id": "rOVbnTjmmR0M"
      },
      "execution_count": 31,
      "outputs": []
    },
    {
      "cell_type": "code",
      "source": [
        "# cleaning the rows with any zero values through each of the two data.frames\n",
        "\n",
        "rna_expr_data_C <- rna_expr_data_C[apply(rna_expr_data_C, 1, function(x) all(x!=0)),]\n",
        "rna_expr_data_N <- rna_expr_data_N[apply(rna_expr_data_N, 1, function(x) all(x!=0)),]"
      ],
      "metadata": {
        "id": "FCdpCeqGmoAK"
      },
      "execution_count": 33,
      "outputs": []
    },
    {
      "cell_type": "code",
      "source": [
        "# row-wise intersection (genes) of the two data.frames\n",
        "\n",
        "rna_expr_data_C <- subset(rna_expr_data_C, rownames(rna_expr_data_C) %in% rownames(rna_expr_data_N))\n",
        "rna_expr_data_N <- subset(rna_expr_data_N, rownames(rna_expr_data_N) %in% rownames(rna_expr_data_C))\n"
      ],
      "metadata": {
        "id": "wH2VdaiwnNLE"
      },
      "execution_count": 34,
      "outputs": []
    },
    {
      "cell_type": "code",
      "source": [
        "# Verify that all the duplicate partecipants have been removed\n",
        "\n",
        "# dummy_split <- as.data.frame(t(apply(common_patients, 1, function(k){\n",
        "# sym <- unlist(strsplit(k, split = \"-\"))\n",
        "# return(c(sym[1], sym[2], sym[3]))\n",
        "# }))); colnames(dummy_split) <- c(\"A\", \"B\", \"C\"); dummy_split[duplicated(dummy_split$C),]\n"
      ],
      "metadata": {
        "id": "4NSRUiRnnoWJ"
      },
      "execution_count": 36,
      "outputs": []
    },
    {
      "cell_type": "markdown",
      "source": [
        "## PART II\n",
        "## Differentially Expressed Genes (DEGs)"
      ],
      "metadata": {
        "id": "OXWar8cjoQQI"
      }
    },
    {
      "cell_type": "markdown",
      "source": [
        "### Installation of the required libraries and set up"
      ],
      "metadata": {
        "id": "hsuqFlKgpHUn"
      }
    },
    {
      "cell_type": "code",
      "source": [
        "# Execute the following cell if and only if the bioconductor packages neede for this part are not installed. \n",
        "# The installation can take some time (in the order of minutes). \n",
        "# See https://bioconductor.org for more details. \n",
        "\n",
        "if (!requireNamespace(\"BiocManager\", quietly = TRUE))\n",
        "   install.packages(\"BiocManager\")\n",
        " \n",
        "BiocManager::install(\"DESeq2\")"
      ],
      "metadata": {
        "id": "fe52UdvTn1tv"
      },
      "execution_count": null,
      "outputs": []
    },
    {
      "cell_type": "code",
      "source": [
        "# Library to handle DEGs\n",
        "library(DESeq2)"
      ],
      "metadata": {
        "id": "KUWMNDhNpEgX"
      },
      "execution_count": 38,
      "outputs": []
    },
    {
      "cell_type": "markdown",
      "source": [
        "### Processing "
      ],
      "metadata": {
        "id": "-smVnLK_pjhm"
      }
    },
    {
      "cell_type": "markdown",
      "source": [
        "#### 1) Merging of the columns"
      ],
      "metadata": {
        "id": "ExYpDR5HrfKZ"
      }
    },
    {
      "cell_type": "code",
      "source": [
        "# sort the column names for each dataset before merging them\n",
        "\n",
        "rna_expr_data_C <- rna_expr_data_C[,order(colnames(rna_expr_data_C))]\n",
        "rna_expr_data_N <- rna_expr_data_N[,order(colnames(rna_expr_data_N))]"
      ],
      "metadata": {
        "id": "fLdbpkQmpUmn"
      },
      "execution_count": 39,
      "outputs": []
    },
    {
      "cell_type": "code",
      "source": [
        "# Rename the columns\n",
        "addInfoData <- function(dt, info){\n",
        "  colInfo <- c()\n",
        "\n",
        "  for(name in colnames(dt)){\n",
        "    colInfo <- c(colInfo, paste(name, info, sep=\"\"))  \n",
        "  }\n",
        "  \n",
        "  colnames(dt) <- colInfo\n",
        "  return(dt)\n",
        "}\n",
        "\n",
        "rna_expr_data_C <- addInfoData(rna_expr_data_C, \"_tumor\")\n",
        "rna_expr_data_N <- addInfoData(rna_expr_data_N, \"_normal\")\n"
      ],
      "metadata": {
        "id": "8ydydxp6pYoM"
      },
      "execution_count": 40,
      "outputs": []
    },
    {
      "cell_type": "code",
      "source": [
        "# Merge the columns, sorted and aggregated\n",
        "\n",
        "full_dt <- cbind(rna_expr_data_N, rna_expr_data_C) \n",
        "#View(full_dt)"
      ],
      "metadata": {
        "id": "88HxaYWBrB2j"
      },
      "execution_count": 43,
      "outputs": []
    },
    {
      "cell_type": "markdown",
      "source": [
        "#### 2) Additional informations"
      ],
      "metadata": {
        "id": "H2zsRdimrj17"
      }
    },
    {
      "cell_type": "code",
      "source": [
        "# create a dataset with additional information\n",
        "\n",
        "PartecipantsCondition <- data.frame(partecipants = colnames(full_dt),\n",
        "                                    condition = NA) \n",
        "PartecipantsCondition <- as.data.frame(t(apply(PartecipantsCondition, 1, function(x){\n",
        "    if(grepl(\"tumor\", x[\"partecipants\"]))\n",
        "      return(c(x[\"partecipants\"], condition = \"tumor\"))\n",
        "    else\n",
        "      return(c(x[\"partecipants\"], condition = \"normal\"))\n",
        "})));"
      ],
      "metadata": {
        "id": "TeTSs_USrFSu"
      },
      "execution_count": 44,
      "outputs": []
    },
    {
      "cell_type": "code",
      "source": [
        "# creating the Object of our merged matrix to be \"DESQued\"\n",
        "DESQ_dt <- DESeqDataSetFromMatrix(countData = full_dt,\n",
        "                                  colData = PartecipantsCondition,\n",
        "                                  design= ~ condition)"
      ],
      "metadata": {
        "colab": {
          "base_uri": "https://localhost:8080/"
        },
        "id": "C7BTjkTJrPF0",
        "outputId": "f73efd40-1873-4ea0-e6d0-adb85e2e5fea"
      },
      "execution_count": 45,
      "outputs": [
        {
          "output_type": "stream",
          "name": "stderr",
          "text": [
            "Warning message in DESeqDataSet(se, design = design, ignoreRank):\n",
            "“some variables in design formula are characters, converting to factors”\n"
          ]
        }
      ]
    },
    {
      "cell_type": "markdown",
      "source": [
        "#### 3) Remove the genes where there are very few reads\n",
        "*Remark:* This processing step will reduce the memory size of the actual dataset, and increase also the future transformation and testing functions."
      ],
      "metadata": {
        "id": "A8ByE9J8rm-t"
      }
    },
    {
      "cell_type": "code",
      "source": [
        "# Here we perform a minimal pre-filtering to keep only rows that have at least 10 reads total. \n",
        "# Note that more strict filtering to increase power is automatically applied via \n",
        "# independent filtering on the mean of normalized counts within the results function.\n",
        "keep <- rowSums(counts(DESQ_dt)) >= 10 # this could be a first threshold for us... more strict less genes\n",
        "DESQ_dt <- DESQ_dt[keep,]"
      ],
      "metadata": {
        "id": "g6LEzJCCrSAQ"
      },
      "execution_count": 46,
      "outputs": []
    },
    {
      "cell_type": "code",
      "source": [],
      "metadata": {
        "id": "haa5ImWesBrH"
      },
      "execution_count": null,
      "outputs": []
    }
  ]
}