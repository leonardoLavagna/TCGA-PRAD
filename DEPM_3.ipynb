{
  "nbformat": 4,
  "nbformat_minor": 0,
  "metadata": {
    "colab": {
      "provenance": [],
      "collapsed_sections": [],
      "authorship_tag": "ABX9TyPDUIJHzACvDaCenGtqJ2pY",
      "include_colab_link": true
    },
    "kernelspec": {
      "name": "ir",
      "display_name": "R"
    },
    "language_info": {
      "name": "R"
    },
    "gpuClass": "standard"
  },
  "cells": [
    {
      "cell_type": "markdown",
      "metadata": {
        "id": "view-in-github",
        "colab_type": "text"
      },
      "source": [
        "<a href=\"https://colab.research.google.com/github/leonardoLavagna/TCGA-PRAD/blob/main/DEPM_3.ipynb\" target=\"_parent\"><img src=\"https://colab.research.google.com/assets/colab-badge.svg\" alt=\"Open In Colab\"/></a>"
      ]
    },
    {
      "cell_type": "markdown",
      "source": [
        "# DEPM First Project \n",
        "# Prostate Adenocarcinoma TCGA-PRAD  \n",
        "\n"
      ],
      "metadata": {
        "id": "MAuaB9ejbv8x"
      }
    },
    {
      "cell_type": "markdown",
      "source": [
        "## PART I DATA \n",
        "### I.1 Installation of the required libraries and set up"
      ],
      "metadata": {
        "id": "P1KZamPwjJ1k"
      }
    },
    {
      "cell_type": "code",
      "execution_count": null,
      "metadata": {
        "id": "glIluPQFuGRV"
      },
      "outputs": [],
      "source": [
        "# Execute the following 3 cells if and only if the bioconductor packages needed for this part are not installed. \n",
        "# The installation can take some time (in the order of minutes). \n",
        "# See https://bioconductor.org for more details. \n",
        "\n",
        "if (!requireNamespace(\"BiocManager\", quietly = TRUE))\n",
        "    install.packages(\"BiocManager\")"
      ]
    },
    {
      "cell_type": "code",
      "source": [
        "BiocManager::install(\"TCGAbiolinks\")"
      ],
      "metadata": {
        "id": "jT9NQ8qEQhMz",
        "colab": {
          "base_uri": "https://localhost:8080/"
        },
        "outputId": "1b19c03a-0019-4051-bf29-94055167f048"
      },
      "execution_count": 2,
      "outputs": [
        {
          "output_type": "stream",
          "name": "stderr",
          "text": [
            "'getOption(\"repos\")' replaces Bioconductor standard repositories, see\n",
            "'?repositories' for details\n",
            "\n",
            "replacement repositories:\n",
            "    CRAN: https://cran.rstudio.com\n",
            "\n",
            "\n",
            "Bioconductor version 3.16 (BiocManager 1.30.19), R 4.2.1 (2022-06-23)\n",
            "\n",
            "Installing package(s) 'TCGAbiolinks'\n",
            "\n",
            "also installing the dependencies ‘Biostrings’, ‘RSQLite’, ‘KEGGREST’, ‘AnnotationDbi’, ‘BiocFileCache’, ‘GenomeInfoDb’, ‘XVector’, ‘R.oo’, ‘Biobase’, ‘DelayedArray’, ‘biomaRt’, ‘GenomicRanges’, ‘plyr’, ‘IRanges’, ‘S4Vectors’, ‘R.utils’, ‘SummarizedExperiment’\n",
            "\n",
            "\n",
            "Old packages: 'IRkernel', 'bslib', 'callr', 'data.table', 'devtools', 'digest',\n",
            "  'ggplot2', 'jsonlite', 'lubridate', 'openssl', 'pkgload', 'processx', 'ps',\n",
            "  'roxygen2', 'sys', 'tibble', 'tidyverse', 'vctrs', 'xfun', 'yaml', 'zip',\n",
            "  'foreign', 'mgcv', 'rpart'\n",
            "\n"
          ]
        }
      ]
    },
    {
      "cell_type": "code",
      "source": [
        "BiocManager::install(\"SummarizedExperiment\")"
      ],
      "metadata": {
        "id": "pYgyeCTjQhth",
        "colab": {
          "base_uri": "https://localhost:8080/"
        },
        "outputId": "fa07e07e-8903-4db8-8e63-008a409bca2f"
      },
      "execution_count": 3,
      "outputs": [
        {
          "output_type": "stream",
          "name": "stderr",
          "text": [
            "'getOption(\"repos\")' replaces Bioconductor standard repositories, see\n",
            "'?repositories' for details\n",
            "\n",
            "replacement repositories:\n",
            "    CRAN: https://cran.rstudio.com\n",
            "\n",
            "\n",
            "Bioconductor version 3.16 (BiocManager 1.30.19), R 4.2.1 (2022-06-23)\n",
            "\n",
            "Warning message:\n",
            "“package(s) not installed when version(s) same as or greater than current; use\n",
            "  `force = TRUE` to re-install: 'SummarizedExperiment'”\n",
            "Old packages: 'IRkernel', 'bslib', 'callr', 'data.table', 'devtools', 'digest',\n",
            "  'ggplot2', 'jsonlite', 'lubridate', 'openssl', 'pkgload', 'processx', 'ps',\n",
            "  'roxygen2', 'sys', 'tibble', 'tidyverse', 'vctrs', 'xfun', 'yaml', 'zip',\n",
            "  'foreign', 'mgcv', 'rpart'\n",
            "\n"
          ]
        }
      ]
    },
    {
      "cell_type": "code",
      "source": [
        "# Libraries for data extraction\n",
        "\n",
        "library(TCGAbiolinks)\n",
        "library(SummarizedExperiment)"
      ],
      "metadata": {
        "id": "osu4jwCmb9mJ",
        "colab": {
          "base_uri": "https://localhost:8080/"
        },
        "outputId": "8012a1a5-b869-43cf-b90d-6a6867050a29"
      },
      "execution_count": 4,
      "outputs": [
        {
          "output_type": "stream",
          "name": "stderr",
          "text": [
            "Loading required package: MatrixGenerics\n",
            "\n",
            "Loading required package: matrixStats\n",
            "\n",
            "\n",
            "Attaching package: ‘MatrixGenerics’\n",
            "\n",
            "\n",
            "The following objects are masked from ‘package:matrixStats’:\n",
            "\n",
            "    colAlls, colAnyNAs, colAnys, colAvgsPerRowSet, colCollapse,\n",
            "    colCounts, colCummaxs, colCummins, colCumprods, colCumsums,\n",
            "    colDiffs, colIQRDiffs, colIQRs, colLogSumExps, colMadDiffs,\n",
            "    colMads, colMaxs, colMeans2, colMedians, colMins, colOrderStats,\n",
            "    colProds, colQuantiles, colRanges, colRanks, colSdDiffs, colSds,\n",
            "    colSums2, colTabulates, colVarDiffs, colVars, colWeightedMads,\n",
            "    colWeightedMeans, colWeightedMedians, colWeightedSds,\n",
            "    colWeightedVars, rowAlls, rowAnyNAs, rowAnys, rowAvgsPerColSet,\n",
            "    rowCollapse, rowCounts, rowCummaxs, rowCummins, rowCumprods,\n",
            "    rowCumsums, rowDiffs, rowIQRDiffs, rowIQRs, rowLogSumExps,\n",
            "    rowMadDiffs, rowMads, rowMaxs, rowMeans2, rowMedians, rowMins,\n",
            "    rowOrderStats, rowProds, rowQuantiles, rowRanges, rowRanks,\n",
            "    rowSdDiffs, rowSds, rowSums2, rowTabulates, rowVarDiffs, rowVars,\n",
            "    rowWeightedMads, rowWeightedMeans, rowWeightedMedians,\n",
            "    rowWeightedSds, rowWeightedVars\n",
            "\n",
            "\n",
            "Loading required package: GenomicRanges\n",
            "\n",
            "Loading required package: stats4\n",
            "\n",
            "Loading required package: BiocGenerics\n",
            "\n",
            "\n",
            "Attaching package: ‘BiocGenerics’\n",
            "\n",
            "\n",
            "The following objects are masked from ‘package:stats’:\n",
            "\n",
            "    IQR, mad, sd, var, xtabs\n",
            "\n",
            "\n",
            "The following objects are masked from ‘package:base’:\n",
            "\n",
            "    anyDuplicated, aperm, append, as.data.frame, basename, cbind,\n",
            "    colnames, dirname, do.call, duplicated, eval, evalq, Filter, Find,\n",
            "    get, grep, grepl, intersect, is.unsorted, lapply, Map, mapply,\n",
            "    match, mget, order, paste, pmax, pmax.int, pmin, pmin.int,\n",
            "    Position, rank, rbind, Reduce, rownames, sapply, setdiff, sort,\n",
            "    table, tapply, union, unique, unsplit, which.max, which.min\n",
            "\n",
            "\n",
            "Loading required package: S4Vectors\n",
            "\n",
            "\n",
            "Attaching package: ‘S4Vectors’\n",
            "\n",
            "\n",
            "The following objects are masked from ‘package:base’:\n",
            "\n",
            "    expand.grid, I, unname\n",
            "\n",
            "\n",
            "Loading required package: IRanges\n",
            "\n",
            "Loading required package: GenomeInfoDb\n",
            "\n",
            "Loading required package: Biobase\n",
            "\n",
            "Welcome to Bioconductor\n",
            "\n",
            "    Vignettes contain introductory material; view with\n",
            "    'browseVignettes()'. To cite Bioconductor, see\n",
            "    'citation(\"Biobase\")', and for packages 'citation(\"pkgname\")'.\n",
            "\n",
            "\n",
            "\n",
            "Attaching package: ‘Biobase’\n",
            "\n",
            "\n",
            "The following object is masked from ‘package:MatrixGenerics’:\n",
            "\n",
            "    rowMedians\n",
            "\n",
            "\n",
            "The following objects are masked from ‘package:matrixStats’:\n",
            "\n",
            "    anyMissing, rowMedians\n",
            "\n",
            "\n"
          ]
        }
      ]
    },
    {
      "cell_type": "code",
      "source": [
        "# Directory tree set up\n",
        "\n",
        "proj <- \"TCGA-PRAD\"\n",
        "dir.create(file.path(proj))"
      ],
      "metadata": {
        "id": "BmkmuGGTb7h3"
      },
      "execution_count": 5,
      "outputs": []
    },
    {
      "cell_type": "markdown",
      "source": [
        "### I.2 Getting the Data \n",
        "For references, see https://portal.gdc.cancer.gov/projects/TCGA-PRAD."
      ],
      "metadata": {
        "id": "70-PuOFXjS8F"
      }
    },
    {
      "cell_type": "code",
      "source": [
        "# Extract primary tumor data\n",
        "\n",
        "rna.query.C <- GDCquery(project = proj, data.category = \"Transcriptome Profiling\", data.type = \"Gene Expression Quantification\", workflow.type = \"STAR - Counts\", sample.type = \"Primary Tumor\") # sample = 01 - TP\n",
        "GDCdownload(query = rna.query.C, directory = \"GDCdata\", method = \"api\")\n",
        "rna.data.C <- GDCprepare(rna.query.C)\n",
        "rna.expr.data.C <- assay(rna.data.C)\n",
        "rna.genes.info.C <- rowRanges(rna.data.C)\n",
        "rna.sample.info.C <- colData(rna.data.C)\n",
        "write.table(rna.expr.data.C, file=file.path(proj,paste(proj, \"_rna_expr_data_C.txt\",sep = \"\")), row.names=TRUE, col.names=TRUE, quote = FALSE)\n",
        "write.table(rna.sample.info.C@listData$patient, file=file.path(proj,paste(proj, \"_rna_patients_C.txt\",sep = \"\")), row.names=FALSE, col.names=FALSE, quote = FALSE)\n",
        "write.table(rna.genes.info.C@ranges@NAMES, file=file.path(proj,paste(proj, \"_rna_genes_C.txt\",sep = \"\")), row.names=FALSE, col.names=FALSE, quote = FALSE)\n"
      ],
      "metadata": {
        "id": "ilGtut1-d6HJ",
        "colab": {
          "base_uri": "https://localhost:8080/"
        },
        "outputId": "ae27356a-61aa-4bd3-99d3-7c55f77cf912"
      },
      "execution_count": 6,
      "outputs": [
        {
          "output_type": "stream",
          "name": "stderr",
          "text": [
            "--------------------------------------\n",
            "\n",
            "o GDCquery: Searching in GDC database\n",
            "\n",
            "--------------------------------------\n",
            "\n",
            "Genome of reference: hg38\n",
            "\n",
            "--------------------------------------------\n",
            "\n",
            "oo Accessing GDC. This might take a while...\n",
            "\n",
            "--------------------------------------------\n",
            "\n",
            "ooo Project: TCGA-PRAD\n",
            "\n",
            "--------------------\n",
            "\n",
            "oo Filtering results\n",
            "\n",
            "--------------------\n",
            "\n",
            "ooo By data.type\n",
            "\n",
            "ooo By workflow.type\n",
            "\n",
            "ooo By sample.type\n",
            "\n",
            "----------------\n",
            "\n",
            "oo Checking data\n",
            "\n",
            "----------------\n",
            "\n",
            "ooo Checking if there are duplicated cases\n",
            "\n",
            "ooo Checking if there are results for the query\n",
            "\n",
            "-------------------\n",
            "\n",
            "o Preparing output\n",
            "\n",
            "-------------------\n",
            "\n",
            "Downloading data for project TCGA-PRAD\n",
            "\n",
            "GDCdownload will download 500 files. A total of 2.119227819 GB\n",
            "\n",
            "The total size of files is big. We will download files in chunks\n",
            "\n",
            "Downloading chunk 1 of 3 (235 files, size = 996.125751 MB) as Mon_Nov__7_09_42_36_2022_0.tar.gz\n",
            "\n"
          ]
        },
        {
          "output_type": "stream",
          "name": "stdout",
          "text": [
            "Downloading: 240 MB     "
          ]
        },
        {
          "output_type": "stream",
          "name": "stderr",
          "text": [
            "Downloading chunk 2 of 3 (235 files, size = 995.973948 MB) as Mon_Nov__7_09_42_36_2022_1.tar.gz\n",
            "\n"
          ]
        },
        {
          "output_type": "stream",
          "name": "stdout",
          "text": [
            "Downloading: 240 MB     "
          ]
        },
        {
          "output_type": "stream",
          "name": "stderr",
          "text": [
            "Downloading chunk 3 of 3 (30 files, size = 127.12812 MB) as Mon_Nov__7_09_42_36_2022_2.tar.gz\n",
            "\n"
          ]
        },
        {
          "output_type": "stream",
          "name": "stdout",
          "text": [
            "|====================================================|100%                      Completed after 37 s \n"
          ]
        },
        {
          "output_type": "stream",
          "name": "stderr",
          "text": [
            "Starting to add information to samples\n",
            "\n",
            " => Add clinical information to samples\n",
            "\n",
            " => Adding TCGA molecular information from marker papers\n",
            "\n",
            " => Information will have prefix 'paper_' \n",
            "\n",
            "prad subtype information from:doi:10.1016/j.cell.2015.10.025\n",
            "\n",
            "Available assays in SummarizedExperiment : \n",
            "  => unstranded\n",
            "  => stranded_first\n",
            "  => stranded_second\n",
            "  => tpm_unstrand\n",
            "  => fpkm_unstrand\n",
            "  => fpkm_uq_unstrand\n",
            "\n"
          ]
        }
      ]
    },
    {
      "cell_type": "code",
      "source": [
        "# Extract solid tissue normal data\n",
        "\n",
        "rna.query.N <- GDCquery(project = proj, data.category = \"Transcriptome Profiling\", data.type = \"Gene Expression Quantification\", workflow.type = \"STAR - Counts\", sample.type = \"Solid Tissue Normal\") \n",
        "GDCdownload(query = rna.query.N, directory = \"GDCdata\", method = \"api\")\n",
        "rna.data.N <- GDCprepare(rna.query.N)\n",
        "rna.expr.data.N <- assay(rna.data.N)\n",
        "rna.genes.info.N <- rowRanges(rna.data.N)\n",
        "rna.sample.info.N <- colData(rna.data.N)\n",
        "write.table(rna.expr.data.N, file=file.path(proj,paste(proj, \"_rna_expr_data_N.txt\",sep=\"\")), row.names=TRUE, col.names=TRUE, quote = FALSE)\n",
        "write.table(rna.sample.info.N@listData$patient, file=file.path(proj,paste(proj, \"_rna_patients_N.txt\",sep = \"\")), row.names=FALSE, col.names=FALSE, quote = FALSE)\n",
        "write.table(rna.genes.info.N@ranges@NAMES, file=file.path(proj,paste(proj, \"_rna_genes_N.txt\",sep = \"\")), row.names=FALSE, col.names=FALSE, quote = FALSE)\n"
      ],
      "metadata": {
        "id": "XlcHUILybWwl",
        "colab": {
          "base_uri": "https://localhost:8080/"
        },
        "outputId": "30baa733-672d-4fe0-8fa0-6ca54098e4be"
      },
      "execution_count": 7,
      "outputs": [
        {
          "output_type": "stream",
          "name": "stderr",
          "text": [
            "--------------------------------------\n",
            "\n",
            "o GDCquery: Searching in GDC database\n",
            "\n",
            "--------------------------------------\n",
            "\n",
            "Genome of reference: hg38\n",
            "\n",
            "--------------------------------------------\n",
            "\n",
            "oo Accessing GDC. This might take a while...\n",
            "\n",
            "--------------------------------------------\n",
            "\n",
            "ooo Project: TCGA-PRAD\n",
            "\n",
            "--------------------\n",
            "\n",
            "oo Filtering results\n",
            "\n",
            "--------------------\n",
            "\n",
            "ooo By data.type\n",
            "\n",
            "ooo By workflow.type\n",
            "\n",
            "ooo By sample.type\n",
            "\n",
            "----------------\n",
            "\n",
            "oo Checking data\n",
            "\n",
            "----------------\n",
            "\n",
            "ooo Checking if there are duplicated cases\n",
            "\n",
            "ooo Checking if there are results for the query\n",
            "\n",
            "-------------------\n",
            "\n",
            "o Preparing output\n",
            "\n",
            "-------------------\n",
            "\n",
            "Downloading data for project TCGA-PRAD\n",
            "\n",
            "GDCdownload will download 52 files. A total of 220.649595 MB\n",
            "\n",
            "Downloading as: Mon_Nov__7_09_52_51_2022.tar.gz\n",
            "\n"
          ]
        },
        {
          "output_type": "stream",
          "name": "stdout",
          "text": [
            "|====================================================|100%                      Completed after 4 s \n"
          ]
        },
        {
          "output_type": "stream",
          "name": "stderr",
          "text": [
            "Starting to add information to samples\n",
            "\n",
            " => Add clinical information to samples\n",
            "\n",
            " => Adding TCGA molecular information from marker papers\n",
            "\n",
            " => Information will have prefix 'paper_' \n",
            "\n",
            "prad subtype information from:doi:10.1016/j.cell.2015.10.025\n",
            "\n",
            "Available assays in SummarizedExperiment : \n",
            "  => unstranded\n",
            "  => stranded_first\n",
            "  => stranded_second\n",
            "  => tpm_unstrand\n",
            "  => fpkm_unstrand\n",
            "  => fpkm_uq_unstrand\n",
            "\n"
          ]
        }
      ]
    },
    {
      "cell_type": "code",
      "source": [
        "# Extra Information from the patients useful for future analysis\n",
        "# clinical.query<-GDCquery_clinic(project = proj, type = \"clinical\", save.csv = FALSE)\n",
        "# write.csv(clinical.query, file = file.path(proj,paste(proj, \"_clinical_data.txt\",sep=\"\")), row.names = FALSE, quote = FALSE)\n"
      ],
      "metadata": {
        "id": "9bdagf1YijgK"
      },
      "execution_count": 8,
      "outputs": []
    },
    {
      "cell_type": "markdown",
      "source": [
        "\n",
        "### I.3 Processing the extracted data"
      ],
      "metadata": {
        "id": "cjn76dl1jpGP"
      }
    },
    {
      "cell_type": "markdown",
      "source": [
        "#### 1) read the condition (tumor) TCGA-PRAD dataset"
      ],
      "metadata": {
        "id": "wKFlJpOYkXYG"
      }
    },
    {
      "cell_type": "code",
      "source": [
        "rna_expr_data_C <- read.table(\"./TCGA-PRAD/TCGA-PRAD_rna_expr_data_C.txt\", header=TRUE, sep=\"\", check.names = F) \n",
        "# View(rna_expr_data_C)"
      ],
      "metadata": {
        "id": "ZN-dbwDsjqeK"
      },
      "execution_count": 9,
      "outputs": []
    },
    {
      "cell_type": "code",
      "source": [
        "rna_gene_data_C <- read.table(\"./TCGA-PRAD/TCGA-PRAD_rna_genes_C.txt\", header=FALSE, sep=\"\", check.names = F) \n",
        "# View(rna_gene_data_C)"
      ],
      "metadata": {
        "id": "ZM75lDbojyzG"
      },
      "execution_count": 10,
      "outputs": []
    },
    {
      "cell_type": "code",
      "source": [
        "rna_patients_data_C <- read.table(\"./TCGA-PRAD/TCGA-PRAD_rna_patients_C.txt\", header=FALSE, sep=\"\", check.names = F) \n",
        "# View(rna_patients_data_C)"
      ],
      "metadata": {
        "id": "2LOrnHRWkTCL"
      },
      "execution_count": 11,
      "outputs": []
    },
    {
      "cell_type": "markdown",
      "source": [
        "#### 2) read the normal (natural) TCGA-PRAD dataset"
      ],
      "metadata": {
        "id": "QszB1D3Rk7Pl"
      }
    },
    {
      "cell_type": "code",
      "source": [
        "rna_expr_data_N <- read.table(\"./TCGA-PRAD/TCGA-PRAD_rna_expr_data_N.txt\", header=TRUE, sep=\"\", check.names = F) \n",
        "# View(rna_expr_data_N)"
      ],
      "metadata": {
        "id": "cM6gwfGwk2R-"
      },
      "execution_count": 12,
      "outputs": []
    },
    {
      "cell_type": "code",
      "source": [
        "rna_gene_data_N <- read.table(\"./TCGA-PRAD/TCGA-PRAD_rna_genes_N.txt\", header=FALSE, sep=\"\", check.names = F) \n",
        "# View(rna_gene_data_N)"
      ],
      "metadata": {
        "id": "L8WuwJSdlCeb"
      },
      "execution_count": 13,
      "outputs": []
    },
    {
      "cell_type": "code",
      "source": [
        "rna_patients_data_N <- read.table(\"./TCGA-PRAD/TCGA-PRAD_rna_patients_N.txt\", header=FALSE, sep=\"\", check.names = F) \n",
        "# View(rna_patients_data_N)"
      ],
      "metadata": {
        "id": "zPHrCniBlMFb"
      },
      "execution_count": 14,
      "outputs": []
    },
    {
      "cell_type": "code",
      "source": [
        "# Extra Information from the patients useful for future analysis\n",
        "\n",
        "# clinical_data <- read.csv2(\"./TCGA-PRAD/TCGA-PRAD_clinical_data.txt\", header = FALSE, sep=\",\")\n",
        "# colnames(clinical_data) <- clinical_data[1,]; clinical_data <- clinical_data[-1,] \n",
        "# View(clinical_data)"
      ],
      "metadata": {
        "id": "ir09UECulPbL"
      },
      "execution_count": 15,
      "outputs": []
    },
    {
      "cell_type": "markdown",
      "source": [
        "#### 3) Intersection and cleaning of partecipants' data"
      ],
      "metadata": {
        "id": "xMQbfx0llq0R"
      }
    },
    {
      "cell_type": "code",
      "source": [
        "# Libraries for merging and cleaning the data\n",
        "\n",
        "library(dplyr)\n",
        "library(stringr)"
      ],
      "metadata": {
        "id": "c7SodY7Ilb6p",
        "colab": {
          "base_uri": "https://localhost:8080/"
        },
        "outputId": "1a27dfbb-0ba6-453e-c665-ed6b37f1e366"
      },
      "execution_count": 16,
      "outputs": [
        {
          "output_type": "stream",
          "name": "stderr",
          "text": [
            "\n",
            "Attaching package: ‘dplyr’\n",
            "\n",
            "\n",
            "The following object is masked from ‘package:Biobase’:\n",
            "\n",
            "    combine\n",
            "\n",
            "\n",
            "The following objects are masked from ‘package:GenomicRanges’:\n",
            "\n",
            "    intersect, setdiff, union\n",
            "\n",
            "\n",
            "The following object is masked from ‘package:GenomeInfoDb’:\n",
            "\n",
            "    intersect\n",
            "\n",
            "\n",
            "The following objects are masked from ‘package:IRanges’:\n",
            "\n",
            "    collapse, desc, intersect, setdiff, slice, union\n",
            "\n",
            "\n",
            "The following objects are masked from ‘package:S4Vectors’:\n",
            "\n",
            "    first, intersect, rename, setdiff, setequal, union\n",
            "\n",
            "\n",
            "The following objects are masked from ‘package:BiocGenerics’:\n",
            "\n",
            "    combine, intersect, setdiff, union\n",
            "\n",
            "\n",
            "The following object is masked from ‘package:matrixStats’:\n",
            "\n",
            "    count\n",
            "\n",
            "\n",
            "The following objects are masked from ‘package:stats’:\n",
            "\n",
            "    filter, lag\n",
            "\n",
            "\n",
            "The following objects are masked from ‘package:base’:\n",
            "\n",
            "    intersect, setdiff, setequal, union\n",
            "\n",
            "\n"
          ]
        }
      ]
    },
    {
      "cell_type": "code",
      "source": [
        "# merge common patients\n",
        "\n",
        "common_patients <- merge(rna_patients_data_C, rna_patients_data_N, by.x=\"V1\", by.y=\"V1\")"
      ],
      "metadata": {
        "id": "FiMMuJdnl-jz"
      },
      "execution_count": 17,
      "outputs": []
    },
    {
      "cell_type": "code",
      "source": [
        "# subtract useless column between the two expression data.frames using a boolean mask\n",
        "# check for multiple patterns and use the boolean mask created to filter through the columns\n",
        "\n",
        "mask_tuned_patientsC <- str_detect(as.vector(colnames(rna_expr_data_C)), paste(as.vector(unlist(common_patients)), collapse = '|'))\n",
        "rna_expr_data_C <- rna_expr_data_C[, mask_tuned_patientsC]\n",
        "\n",
        "mask_tuned_patientsN <- str_detect(as.vector(colnames(rna_expr_data_N)), paste(as.vector(unlist(common_patients)), collapse = '|')) \n",
        "rna_expr_data_N <- rna_expr_data_N[, mask_tuned_patientsN] "
      ],
      "metadata": {
        "id": "rOVbnTjmmR0M"
      },
      "execution_count": 18,
      "outputs": []
    },
    {
      "cell_type": "code",
      "source": [
        "# cleaning the rows with any zero values through each of the two data.frames\n",
        "\n",
        "rna_expr_data_C <- rna_expr_data_C[apply(rna_expr_data_C, 1, function(x) all(x!=0)),]\n",
        "rna_expr_data_N <- rna_expr_data_N[apply(rna_expr_data_N, 1, function(x) all(x!=0)),]"
      ],
      "metadata": {
        "id": "FCdpCeqGmoAK"
      },
      "execution_count": 19,
      "outputs": []
    },
    {
      "cell_type": "code",
      "source": [
        "# row-wise intersection (genes) of the two data.frames\n",
        "\n",
        "rna_expr_data_C <- subset(rna_expr_data_C, rownames(rna_expr_data_C) %in% rownames(rna_expr_data_N))\n",
        "rna_expr_data_N <- subset(rna_expr_data_N, rownames(rna_expr_data_N) %in% rownames(rna_expr_data_C))\n"
      ],
      "metadata": {
        "id": "wH2VdaiwnNLE"
      },
      "execution_count": 20,
      "outputs": []
    },
    {
      "cell_type": "code",
      "source": [
        "# Verify that all the duplicate partecipants have been removed\n",
        "\n",
        "# dummy_split <- as.data.frame(t(apply(common_patients, 1, function(k){\n",
        "# sym <- unlist(strsplit(k, split = \"-\"))\n",
        "# return(c(sym[1], sym[2], sym[3]))\n",
        "# }))); colnames(dummy_split) <- c(\"A\", \"B\", \"C\"); dummy_split[duplicated(dummy_split$C),]\n"
      ],
      "metadata": {
        "id": "4NSRUiRnnoWJ"
      },
      "execution_count": 21,
      "outputs": []
    },
    {
      "cell_type": "markdown",
      "source": [
        "## PART II\n",
        "## Differentially Expressed Genes (DEGs)"
      ],
      "metadata": {
        "id": "OXWar8cjoQQI"
      }
    },
    {
      "cell_type": "markdown",
      "source": [
        "### II.1 Installation of the required libraries and set up"
      ],
      "metadata": {
        "id": "hsuqFlKgpHUn"
      }
    },
    {
      "cell_type": "code",
      "source": [
        "# Execute the following two cells if and only if the bioconductor packages neede for this part are not installed. \n",
        "# The installation can take some time (in the order of minutes). \n",
        "# See https://bioconductor.org for more details. \n",
        "\n",
        "if (!requireNamespace(\"BiocManager\", quietly = TRUE))\n",
        "   install.packages(\"BiocManager\")"
      ],
      "metadata": {
        "id": "fe52UdvTn1tv"
      },
      "execution_count": 22,
      "outputs": []
    },
    {
      "cell_type": "code",
      "source": [
        "BiocManager::install(\"DESeq2\")"
      ],
      "metadata": {
        "id": "Wgr0WTMKRJr2",
        "colab": {
          "base_uri": "https://localhost:8080/"
        },
        "outputId": "e1186655-d0a1-4b8a-b644-39f056dded0e"
      },
      "execution_count": 23,
      "outputs": [
        {
          "output_type": "stream",
          "name": "stderr",
          "text": [
            "'getOption(\"repos\")' replaces Bioconductor standard repositories, see\n",
            "'?repositories' for details\n",
            "\n",
            "replacement repositories:\n",
            "    CRAN: https://cran.rstudio.com\n",
            "\n",
            "\n",
            "Bioconductor version 3.16 (BiocManager 1.30.19), R 4.2.1 (2022-06-23)\n",
            "\n",
            "Installing package(s) 'DESeq2'\n",
            "\n",
            "also installing the dependencies ‘formatR’, ‘lambda.r’, ‘futile.options’, ‘xtable’, ‘futile.logger’, ‘snow’, ‘BH’, ‘annotate’, ‘BiocParallel’, ‘genefilter’, ‘locfit’, ‘geneplotter’, ‘RcppArmadillo’\n",
            "\n",
            "\n",
            "Old packages: 'IRkernel', 'bslib', 'callr', 'data.table', 'devtools', 'digest',\n",
            "  'ggplot2', 'jsonlite', 'lubridate', 'openssl', 'pkgload', 'processx', 'ps',\n",
            "  'roxygen2', 'sys', 'tibble', 'tidyverse', 'vctrs', 'xfun', 'yaml', 'zip',\n",
            "  'foreign', 'mgcv', 'rpart'\n",
            "\n"
          ]
        }
      ]
    },
    {
      "cell_type": "code",
      "source": [
        "# Library to handle DEGs\n",
        "\n",
        "library(DESeq2)"
      ],
      "metadata": {
        "id": "KUWMNDhNpEgX"
      },
      "execution_count": 24,
      "outputs": []
    },
    {
      "cell_type": "markdown",
      "source": [
        "### II.2 Processing "
      ],
      "metadata": {
        "id": "-smVnLK_pjhm"
      }
    },
    {
      "cell_type": "markdown",
      "source": [
        "#### 1) Merging of the columns"
      ],
      "metadata": {
        "id": "ExYpDR5HrfKZ"
      }
    },
    {
      "cell_type": "code",
      "source": [
        "# sort the column names for each dataset before merging them\n",
        "\n",
        "rna_expr_data_C <- rna_expr_data_C[,order(colnames(rna_expr_data_C))]\n",
        "rna_expr_data_N <- rna_expr_data_N[,order(colnames(rna_expr_data_N))]"
      ],
      "metadata": {
        "id": "fLdbpkQmpUmn"
      },
      "execution_count": 25,
      "outputs": []
    },
    {
      "cell_type": "code",
      "source": [
        "# Rename the columns\n",
        "\n",
        "addInfoData <- function(dt, info){\n",
        "  colInfo <- c()\n",
        "\n",
        "  for(name in colnames(dt)){\n",
        "    colInfo <- c(colInfo, paste(name, info, sep=\"\"))  \n",
        "  }\n",
        "  \n",
        "  colnames(dt) <- colInfo\n",
        "  return(dt)\n",
        "}\n",
        "\n",
        "rna_expr_data_C <- addInfoData(rna_expr_data_C, \"_tumor\")\n",
        "rna_expr_data_N <- addInfoData(rna_expr_data_N, \"_normal\")\n"
      ],
      "metadata": {
        "id": "8ydydxp6pYoM"
      },
      "execution_count": 26,
      "outputs": []
    },
    {
      "cell_type": "code",
      "source": [
        "# Merge the columns, sorted and aggregated\n",
        "\n",
        "full_dt <- cbind(rna_expr_data_N, rna_expr_data_C) \n",
        "#View(full_dt)"
      ],
      "metadata": {
        "id": "88HxaYWBrB2j"
      },
      "execution_count": 27,
      "outputs": []
    },
    {
      "cell_type": "markdown",
      "source": [
        "#### 2) Additional informations"
      ],
      "metadata": {
        "id": "H2zsRdimrj17"
      }
    },
    {
      "cell_type": "code",
      "source": [
        "# create a dataset with additional information\n",
        "\n",
        "PartecipantsCondition <- data.frame(partecipants = colnames(full_dt),\n",
        "                                    condition = NA) \n",
        "PartecipantsCondition <- as.data.frame(t(apply(PartecipantsCondition, 1, function(x){\n",
        "    if(grepl(\"tumor\", x[\"partecipants\"]))\n",
        "      return(c(x[\"partecipants\"], condition = \"tumor\"))\n",
        "    else\n",
        "      return(c(x[\"partecipants\"], condition = \"normal\"))\n",
        "})));"
      ],
      "metadata": {
        "id": "TeTSs_USrFSu"
      },
      "execution_count": 28,
      "outputs": []
    },
    {
      "cell_type": "code",
      "source": [
        "# creating the Object of our merged matrix to be \"DESQued\"\n",
        "\n",
        "DESQ_dt <- DESeqDataSetFromMatrix(countData = full_dt,\n",
        "                                  colData = PartecipantsCondition,\n",
        "                                  design= ~ condition)"
      ],
      "metadata": {
        "colab": {
          "base_uri": "https://localhost:8080/"
        },
        "id": "C7BTjkTJrPF0",
        "outputId": "d0e28c9d-0b4e-4b4f-aa03-dd306343f1ff"
      },
      "execution_count": 29,
      "outputs": [
        {
          "output_type": "stream",
          "name": "stderr",
          "text": [
            "Warning message in DESeqDataSet(se, design = design, ignoreRank):\n",
            "“some variables in design formula are characters, converting to factors”\n"
          ]
        }
      ]
    },
    {
      "cell_type": "markdown",
      "source": [
        "#### 3) Remove the genes where there are very few reads\n",
        "*Remark:* This processing step will reduce the memory size of the actual dataset, and increase also the future transformation and testing functions."
      ],
      "metadata": {
        "id": "A8ByE9J8rm-t"
      }
    },
    {
      "cell_type": "code",
      "source": [
        "# Here we perform a minimal pre-filtering to keep only rows that have at least 10 reads total. \n",
        "# Note that more strict filtering to increase power is automatically applied via \n",
        "# independent filtering on the mean of normalized counts within the results function.\n",
        "\n",
        "keep <- rowSums(counts(DESQ_dt)) >= 10 # this could be a first threshold for us... more strict less genes\n",
        "DESQ_dt <- DESQ_dt[keep,]"
      ],
      "metadata": {
        "id": "g6LEzJCCrSAQ"
      },
      "execution_count": 30,
      "outputs": []
    },
    {
      "cell_type": "markdown",
      "source": [
        "#### 4) Tresholding\n",
        "*Remark:* here we get the results, obtaining the correction FDR through different tests Its important to keep track of the adjpvalue"
      ],
      "metadata": {
        "id": "uQy56A6BtBn5"
      }
    },
    {
      "cell_type": "code",
      "source": [
        "DESQ_dtOutput <- DESeq(DESQ_dt)"
      ],
      "metadata": {
        "colab": {
          "base_uri": "https://localhost:8080/"
        },
        "id": "Q3mKBnins9ku",
        "outputId": "469a7955-4ce8-4c02-bb78-29d5c029be49"
      },
      "execution_count": 31,
      "outputs": [
        {
          "output_type": "stream",
          "name": "stderr",
          "text": [
            "estimating size factors\n",
            "\n",
            "estimating dispersions\n",
            "\n",
            "gene-wise dispersion estimates\n",
            "\n",
            "mean-dispersion relationship\n",
            "\n",
            "final dispersion estimates\n",
            "\n",
            "fitting model and testing\n",
            "\n",
            "-- replacing outliers and refitting for 602 genes\n",
            "-- DESeq argument 'minReplicatesForReplace' = 7 \n",
            "-- original counts are preserved in counts(dds)\n",
            "\n",
            "estimating dispersions\n",
            "\n",
            "fitting model and testing\n",
            "\n"
          ]
        }
      ]
    },
    {
      "cell_type": "code",
      "source": [
        "# this applies a threshold of alpha = 0.05, to make correction of different tests applied, \n",
        "# we apply some corrections optimizing the number of genes which will have an adjusted p value below a given FDR cutoff, \n",
        "# alpha = 0.05 \n",
        "\n",
        "res <- results(DESQ_dtOutput, alpha = 0.05, lfcThreshold = 1.2)  "
      ],
      "metadata": {
        "id": "z5v9BBivtFoZ"
      },
      "execution_count": 32,
      "outputs": []
    },
    {
      "cell_type": "markdown",
      "source": [
        "*Remark:* LFC means Log Fold Change. Recall that if LFC > 0 then the number of genes is up-regulated and viceversa (down-regulated < 0).  Moreover LFC > 0 means more expression in NORMAL condition, and LFC < 0  menas is more expression in TUMOR condition.\n",
        "\n"
      ],
      "metadata": {
        "id": "8QMuIwvnuAcd"
      }
    },
    {
      "cell_type": "code",
      "source": [
        "# Display the summary of the results\n",
        "\n",
        "summary(res)"
      ],
      "metadata": {
        "colab": {
          "base_uri": "https://localhost:8080/"
        },
        "id": "lwfTr4cvtmDh",
        "outputId": "a617ebfe-3b96-4e8e-9393-7e466a9aa5ed"
      },
      "execution_count": 33,
      "outputs": [
        {
          "output_type": "stream",
          "name": "stdout",
          "text": [
            "\n",
            "out of 18271 with nonzero total read count\n",
            "adjusted p-value < 0.05\n",
            "LFC > 1.20 (up)    : 49, 0.27%\n",
            "LFC < -1.20 (down) : 120, 0.66%\n",
            "outliers [1]       : 0, 0%\n",
            "low counts [2]     : 0, 0%\n",
            "(mean count < 5)\n",
            "[1] see 'cooksCutoff' argument of ?results\n",
            "[2] see 'independentFiltering' argument of ?results\n",
            "\n"
          ]
        }
      ]
    },
    {
      "cell_type": "markdown",
      "source": [
        "#### 4) Plots"
      ],
      "metadata": {
        "id": "diLg8HE3uWYY"
      }
    },
    {
      "cell_type": "code",
      "source": [
        "# differentially expressed gene ordered from the lower at the larger value of adjustedPvalue\n",
        "\n",
        "resOrdered <- res[order(res$padj), ]"
      ],
      "metadata": {
        "id": "6tIETBEKuPgC"
      },
      "execution_count": 34,
      "outputs": []
    },
    {
      "cell_type": "code",
      "source": [
        "# versus conditions\n",
        "\n",
        "resultsNames(DESQ_dtOutput)"
      ],
      "metadata": {
        "colab": {
          "base_uri": "https://localhost:8080/",
          "height": 34
        },
        "id": "t0QmBR2CuZuR",
        "outputId": "f278f19a-d2cc-44a0-9312-c210b1e3b33a"
      },
      "execution_count": 35,
      "outputs": [
        {
          "output_type": "display_data",
          "data": {
            "text/html": [
              "<style>\n",
              ".list-inline {list-style: none; margin:0; padding: 0}\n",
              ".list-inline>li {display: inline-block}\n",
              ".list-inline>li:not(:last-child)::after {content: \"\\00b7\"; padding: 0 .5ex}\n",
              "</style>\n",
              "<ol class=list-inline><li>'Intercept'</li><li>'condition_tumor_vs_normal'</li></ol>\n"
            ],
            "text/markdown": "1. 'Intercept'\n2. 'condition_tumor_vs_normal'\n\n\n",
            "text/latex": "\\begin{enumerate*}\n\\item 'Intercept'\n\\item 'condition\\_tumor\\_vs\\_normal'\n\\end{enumerate*}\n",
            "text/plain": [
              "[1] \"Intercept\"                 \"condition_tumor_vs_normal\""
            ]
          },
          "metadata": {}
        }
      ]
    },
    {
      "cell_type": "code",
      "source": [
        "# the function plotMA shows the log2 fold changes attributable to a given variable \n",
        "# over the mean of normalized counts for all the samples in the DESeqDataSet. \n",
        "# Points will be colored red if the adjusted p value is less than 0.1. \n",
        "# Points which fall out of the window are plotted as open triangles pointing either up or down.\n",
        " \n",
        "plotMA(res, ylim = c(-8, 8))"
      ],
      "metadata": {
        "colab": {
          "base_uri": "https://localhost:8080/",
          "height": 437
        },
        "id": "gPelWkO4ufNA",
        "outputId": "75191b08-76a6-4346-bcd8-6cbcad83cef7"
      },
      "execution_count": 36,
      "outputs": [
        {
          "output_type": "display_data",
          "data": {
            "text/plain": [
              "Plot with title “”"
            ],
            "image/png": "[encoded data removed]"
          },
          "metadata": {
            "image/png": {
              "width": 420,
              "height": 420
            }
          }
        }
      ]
    },
    {
      "cell_type": "code",
      "source": [
        "# Volcano Plot\n",
        "# See https://en.wikipedia.org/wiki/Fold_change\n",
        "\n",
        "topT <- as.data.frame(res)\n",
        "\n",
        "#Adjusted P values (FDR Q values)\n",
        "with(topT, plot(log2FoldChange, -log10(padj), pch=20, main=\"Volcano plot\", cex=1.0, xlab=bquote(~Log[2]~fold~change), ylab=bquote(~-log[10]~adj.pvalue)))\n",
        "with(subset(topT, padj<=0.05 & log2FoldChange>=1.2), points(log2FoldChange, -log10(padj), pch=20, col=\"red\", cex=0.5))\n",
        "with(subset(topT, padj<=0.05 & log2FoldChange<= -1.2), points(log2FoldChange, -log10(padj), pch=20, col=\"green\", cex=0.5))\n",
        "\n",
        "#Add lines for absolute FC>2 and P-value cut-off at FDR Q<0.05\n",
        "abline(v=0, col=\"black\", lty=3, lwd=1.0)\n",
        "abline(v=-1.2, col=\"black\", lty=4, lwd=2.0)\n",
        "abline(v=1.2, col=\"black\", lty=4, lwd=2.0)\n",
        "abline(h=-log10(max(topT$pvalue[topT$padj<=0.05], na.rm=TRUE)), col=\"black\", lty=4, lwd=2.0)\n"
      ],
      "metadata": {
        "colab": {
          "base_uri": "https://localhost:8080/",
          "height": 437
        },
        "id": "ifw9o7ZHujrJ",
        "outputId": "03b45a01-b0bc-437a-de0b-775a8bd9b608"
      },
      "execution_count": 37,
      "outputs": [
        {
          "output_type": "display_data",
          "data": {
            "text/plain": [
              "Plot with title “Volcano plot”"
            ],
            "image/png": "[encoded data removed]"
          },
          "metadata": {
            "image/png": {
              "width": 420,
              "height": 420
            }
          }
        }
      ]
    },
    {
      "cell_type": "markdown",
      "source": [
        "## PART III\n",
        "## Co-expression networks"
      ],
      "metadata": {
        "id": "bt4eJB3VHaGK"
      }
    },
    {
      "cell_type": "markdown",
      "source": [
        "### III.1 Extract the relevant data from the differentially expressed ordered gene seen in II.2"
      ],
      "metadata": {
        "id": "tYWdpRKlKDlA"
      }
    },
    {
      "cell_type": "code",
      "source": [
        "# extract the filtered DEGs\n",
        "\n",
        "res_save <- subset(resOrdered, padj <= 0.05)\n",
        "final_dt <- as.data.frame(res_save)"
      ],
      "metadata": {
        "id": "FE9MfwcDveSe"
      },
      "execution_count": 38,
      "outputs": []
    },
    {
      "cell_type": "code",
      "source": [
        "# extract the genes \n",
        "\n",
        "genes_passed <- rownames(final_dt)"
      ],
      "metadata": {
        "id": "BQirk3J9HpFv"
      },
      "execution_count": 39,
      "outputs": []
    },
    {
      "cell_type": "markdown",
      "source": [
        "### III.2 Processing"
      ],
      "metadata": {
        "id": "hCgHoA6hKv36"
      }
    },
    {
      "cell_type": "code",
      "source": [
        "# filter the two datasets expressed in tumor and normal \n",
        "\n",
        "rna_expr_data_C <- rna_expr_data_C[genes_passed, ]\n",
        "rna_expr_data_N <- rna_expr_data_N[genes_passed, ]"
      ],
      "metadata": {
        "id": "AoE650bkJgzg"
      },
      "execution_count": 40,
      "outputs": []
    },
    {
      "cell_type": "code",
      "source": [
        "# create the correlation datasets for plotting the network for each graph\n",
        "\n",
        "co_net_corr_dataC <- cor(t(rna_expr_data_C), method = \"pearson\")\n",
        "co_net_corr_dataN <- cor(t(rna_expr_data_N), method = \"pearson\")"
      ],
      "metadata": {
        "id": "BJALSysvJi0L"
      },
      "execution_count": 41,
      "outputs": []
    },
    {
      "cell_type": "code",
      "source": [
        "# log-transform FPKM data using log2(x+1) of each count\n",
        "# See https://www.rna-seqblog.com/rpkm-fpkm-and-tpm-clearly-explained/\n",
        "\n",
        "rna_expr_data_C <- log2(rna_expr_data_C+1)\n",
        "rna_expr_data_N <- log2(rna_expr_data_N+1)"
      ],
      "metadata": {
        "id": "-1FtXL4LJo0n"
      },
      "execution_count": 42,
      "outputs": []
    },
    {
      "cell_type": "code",
      "source": [
        "# create the correlation datasets for plotting the network for each graph\n",
        "\n",
        "co_net_corr_dataC <- cor(t(rna_expr_data_C), method = \"pearson\")\n",
        "co_net_corr_dataN <- cor(t(rna_expr_data_N), method = \"pearson\")"
      ],
      "metadata": {
        "id": "IMvLe-zyJrhc"
      },
      "execution_count": 43,
      "outputs": []
    },
    {
      "cell_type": "markdown",
      "source": [
        "### III.3 Plots and Trasholding"
      ],
      "metadata": {
        "id": "guJS9YHaK0r9"
      }
    },
    {
      "cell_type": "code",
      "source": [
        "distroRho_pearsC <- co_net_corr_dataC[upper.tri(co_net_corr_dataC)]\n",
        "distroRho_pearsN <- co_net_corr_dataN[upper.tri(co_net_corr_dataN)]"
      ],
      "metadata": {
        "id": "ga2fdwfFJkhT"
      },
      "execution_count": 44,
      "outputs": []
    },
    {
      "cell_type": "code",
      "source": [
        "# plot the distribution of the correlations to naively choose a good trashold \n",
        "\n",
        "par(mfrow = c(2, 2))\n",
        "hist(distroRho_pearsC, main = \"No Log2 Tumoral Data\", col = \"red\", xlab = \"Rho Correlation\", breaks = 50)\n",
        "#points(x = 0.5, y = 0.0, pch = 20, col = \"black\", cex = 2) # x=0.5 to change accordingly \n",
        "hist(distroRho_pearsN, main = \"No Log2 Normal Data\", col = \"green\", xlab = \"Rho Correlation\", breaks = 50)\n",
        "#points(x = 0.5, y = 0.0, pch = 20, col = \"black\", cex = 2) # x=0.5 to change accordingly "
      ],
      "metadata": {
        "colab": {
          "base_uri": "https://localhost:8080/",
          "height": 437
        },
        "id": "OalloU5vJmIo",
        "outputId": "d3b2e612-1e2e-4441-c799-7da36bcb40e2"
      },
      "execution_count": 62,
      "outputs": [
        {
          "output_type": "display_data",
          "data": {
            "text/plain": [
              "Plot with title “No Log2 Normal Data”"
            ],
            "image/png": "[encoded data removed]"
          },
          "metadata": {
            "image/png": {
              "width": 420,
              "height": 420
            }
          }
        }
      ]
    },
    {
      "cell_type": "code",
      "source": [
        "# these are probably the threshold candidates \n",
        "quantile(abs(distroRho_pearsC))\n",
        "quantile(abs(distroRho_pearsN))\n",
        "# Choose trashold = 0.4 as shown below"
      ],
      "metadata": {
        "colab": {
          "base_uri": "https://localhost:8080/",
          "height": 52
        },
        "id": "KvFQQSJQJ0WR",
        "outputId": "86bc1187-dc58-477c-a966-366d5df16173"
      },
      "execution_count": 46,
      "outputs": [
        {
          "output_type": "display_data",
          "data": {
            "text/html": [
              "<style>\n",
              ".dl-inline {width: auto; margin:0; padding: 0}\n",
              ".dl-inline>dt, .dl-inline>dd {float: none; width: auto; display: inline-block}\n",
              ".dl-inline>dt::after {content: \":\\0020\"; padding-right: .5ex}\n",
              ".dl-inline>dt:not(:first-of-type) {padding-left: .5ex}\n",
              "</style><dl class=dl-inline><dt>0%</dt><dd>3.09578226121337e-05</dd><dt>25%</dt><dd>0.0876770241767632</dd><dt>50%</dt><dd>0.195082639464461</dd><dt>75%</dt><dd>0.370144921378316</dd><dt>100%</dt><dd>0.916292464572202</dd></dl>\n"
            ],
            "text/markdown": "0%\n:   3.09578226121337e-0525%\n:   0.087677024176763250%\n:   0.19508263946446175%\n:   0.370144921378316100%\n:   0.916292464572202\n\n",
            "text/latex": "\\begin{description*}\n\\item[0\\textbackslash{}\\%] 3.09578226121337e-05\n\\item[25\\textbackslash{}\\%] 0.0876770241767632\n\\item[50\\textbackslash{}\\%] 0.195082639464461\n\\item[75\\textbackslash{}\\%] 0.370144921378316\n\\item[100\\textbackslash{}\\%] 0.916292464572202\n\\end{description*}\n",
            "text/plain": [
              "          0%          25%          50%          75%         100% \n",
              "3.095782e-05 8.767702e-02 1.950826e-01 3.701449e-01 9.162925e-01 "
            ]
          },
          "metadata": {}
        },
        {
          "output_type": "display_data",
          "data": {
            "text/html": [
              "<style>\n",
              ".dl-inline {width: auto; margin:0; padding: 0}\n",
              ".dl-inline>dt, .dl-inline>dd {float: none; width: auto; display: inline-block}\n",
              ".dl-inline>dt::after {content: \":\\0020\"; padding-right: .5ex}\n",
              ".dl-inline>dt:not(:first-of-type) {padding-left: .5ex}\n",
              "</style><dl class=dl-inline><dt>0%</dt><dd>5.62179582679261e-05</dd><dt>25%</dt><dd>0.218658186540166</dd><dt>50%</dt><dd>0.411914648641001</dd><dt>75%</dt><dd>0.625145212357633</dd><dt>100%</dt><dd>0.952292685740384</dd></dl>\n"
            ],
            "text/markdown": "0%\n:   5.62179582679261e-0525%\n:   0.21865818654016650%\n:   0.41191464864100175%\n:   0.625145212357633100%\n:   0.952292685740384\n\n",
            "text/latex": "\\begin{description*}\n\\item[0\\textbackslash{}\\%] 5.62179582679261e-05\n\\item[25\\textbackslash{}\\%] 0.218658186540166\n\\item[50\\textbackslash{}\\%] 0.411914648641001\n\\item[75\\textbackslash{}\\%] 0.625145212357633\n\\item[100\\textbackslash{}\\%] 0.952292685740384\n\\end{description*}\n",
            "text/plain": [
              "          0%          25%          50%          75%         100% \n",
              "5.621796e-05 2.186582e-01 4.119146e-01 6.251452e-01 9.522927e-01 "
            ]
          },
          "metadata": {}
        }
      ]
    },
    {
      "cell_type": "markdown",
      "source": [
        "### III.4 Fine tuned trasholding"
      ],
      "metadata": {
        "id": "k5OQAWsCbn4S"
      }
    },
    {
      "cell_type": "code",
      "source": [
        "install.packages(\"igraph\")"
      ],
      "metadata": {
        "colab": {
          "base_uri": "https://localhost:8080/"
        },
        "id": "VnFAVq5rbJCF",
        "outputId": "a0804eb5-0920-4619-9263-90440677c822"
      },
      "execution_count": 47,
      "outputs": [
        {
          "output_type": "stream",
          "name": "stderr",
          "text": [
            "Installing package into ‘/usr/local/lib/R/site-library’\n",
            "(as ‘lib’ is unspecified)\n",
            "\n"
          ]
        }
      ]
    },
    {
      "cell_type": "code",
      "source": [
        "library(igraph)"
      ],
      "metadata": {
        "colab": {
          "base_uri": "https://localhost:8080/"
        },
        "id": "VWwKfTQZbxEo",
        "outputId": "f3a127f4-6184-4cd1-aa3c-9f70c2dac6d1"
      },
      "execution_count": 48,
      "outputs": [
        {
          "output_type": "stream",
          "name": "stderr",
          "text": [
            "\n",
            "Attaching package: ‘igraph’\n",
            "\n",
            "\n",
            "The following objects are masked from ‘package:dplyr’:\n",
            "\n",
            "    as_data_frame, groups, union\n",
            "\n",
            "\n",
            "The following object is masked from ‘package:GenomicRanges’:\n",
            "\n",
            "    union\n",
            "\n",
            "\n",
            "The following object is masked from ‘package:IRanges’:\n",
            "\n",
            "    union\n",
            "\n",
            "\n",
            "The following object is masked from ‘package:S4Vectors’:\n",
            "\n",
            "    union\n",
            "\n",
            "\n",
            "The following objects are masked from ‘package:BiocGenerics’:\n",
            "\n",
            "    normalize, path, union\n",
            "\n",
            "\n",
            "The following objects are masked from ‘package:stats’:\n",
            "\n",
            "    decompose, spectrum\n",
            "\n",
            "\n",
            "The following object is masked from ‘package:base’:\n",
            "\n",
            "    union\n",
            "\n",
            "\n"
          ]
        }
      ]
    },
    {
      "cell_type": "code",
      "source": [
        "# Find a good threshold \n",
        "# Emulate Fiscon lecture (see materials of last year)\n",
        "# https://classroom.google.com/c/Mjg4MDY4MjkxNDMw\n",
        "\n",
        "fractionNodes <- function(graph){\n",
        "  v_graph <- length(V(graph))\n",
        "  component <- components(graph)\n",
        "  ind <- which(component$membership == which.max(component$csize))\n",
        "  LCC <- induced_subgraph(graph , V(graph)[ind])\n",
        "  v_LCC <- length(V(LCC))\n",
        "  \n",
        "  frac_node_LCC <- v_LCC / v_graph\n",
        "  return(frac_node_LCC)\n",
        "}\n",
        "\n",
        "OptimalThresholding <- function(dt, dt2, x){\n",
        "  # create the correlation datasets for plotting the network for each graph\n",
        "  co_net_corr_dataC <- cor(t(dt), method = \"spearman\")\n",
        "  co_net_corr_dataN <- cor(t(dt2), method = \"spearman\")\n",
        "  \n",
        "  tsh <- x\n",
        "  co_net_corr_dataC <- ifelse(co_net_corr_dataC <= -abs(tsh) | co_net_corr_dataC >= abs(tsh), 1, 0)\n",
        "  co_net_corr_dataN <- ifelse(co_net_corr_dataN <= -abs(tsh) | co_net_corr_dataN >= abs(tsh), 1, 0)\n",
        "  \n",
        "  gC <- graph_from_adjacency_matrix(co_net_corr_dataC, diag = FALSE)\n",
        "  gN <- graph_from_adjacency_matrix(co_net_corr_dataN, diag = FALSE)\n",
        "  \n",
        "  fracNodes_C <- fractionNodes(gC)\n",
        "  fracNodes_N <- fractionNodes(gN)\n",
        "  \n",
        "  return(mean(fracNodes_C, fracNodes_N))\n",
        "}\n",
        "\n",
        "possibletsh <- seq(0, 1, length.out = 20) # the behaviour is symmetric\n",
        "densities <- unlist(lapply(possibletsh, function(x){\n",
        "  return(OptimalThresholding(rna_expr_data_C, rna_expr_data_N, x))\n",
        "}))\n",
        "\n",
        "plot(possibletsh, densities, col = \"blue\", type = \"l\", lwd = 3, xlab = \"Threshold of Correlation\", ylab = \"Fraction of nodes\", main = \"Hard Threshold Choice\")\n",
        "rect(xleft = 0.3, ybottom = 0.0, xright = 0.5, ytop = 1.0, density = 5, border = \"red\", lty = 2, lwd = 1)\n",
        "\n",
        "\n",
        "abline(h = 0.98, lty=2)\n",
        "abline(v = 0.4, lty=2)\n",
        "points(x = 0.4, y = 0.98, pch = 20, col = \"red\", cex = 1.5) # this is our preferable naive-hard thresholding\n"
      ],
      "metadata": {
        "colab": {
          "base_uri": "https://localhost:8080/",
          "height": 437
        },
        "id": "PnucTQrRbE8r",
        "outputId": "10f83a69-814c-42a1-bfe3-0071b2df93da"
      },
      "execution_count": 59,
      "outputs": [
        {
          "output_type": "display_data",
          "data": {
            "text/plain": [
              "Plot with title “Hard Threshold Choice”"
            ],
            "image/png": "[encoded data removed]"
          },
          "metadata": {
            "image/png": {
              "width": 420,
              "height": 420
            }
          }
        }
      ]
    },
    {
      "cell_type": "markdown",
      "source": [
        "### III.4 Hubs of genes"
      ],
      "metadata": {
        "id": "iYWr4qgYOFHC"
      }
    },
    {
      "cell_type": "code",
      "source": [
        "install.packages(\"ggplot2\")"
      ],
      "metadata": {
        "colab": {
          "base_uri": "https://localhost:8080/"
        },
        "id": "lsrBBB3aYIU2",
        "outputId": "b51f35b6-f774-46ab-dae4-23688ff75b1c"
      },
      "execution_count": 50,
      "outputs": [
        {
          "output_type": "stream",
          "name": "stderr",
          "text": [
            "Installing package into ‘/usr/local/lib/R/site-library’\n",
            "(as ‘lib’ is unspecified)\n",
            "\n",
            "also installing the dependency ‘vctrs’\n",
            "\n",
            "\n"
          ]
        }
      ]
    },
    {
      "cell_type": "code",
      "source": [
        "install.packages(\"cowplot\")"
      ],
      "metadata": {
        "colab": {
          "base_uri": "https://localhost:8080/"
        },
        "id": "VKqQyQmjbeJX",
        "outputId": "d4a87256-19c6-4ace-8b18-5cf93ea62392"
      },
      "execution_count": 51,
      "outputs": [
        {
          "output_type": "stream",
          "name": "stderr",
          "text": [
            "Installing package into ‘/usr/local/lib/R/site-library’\n",
            "(as ‘lib’ is unspecified)\n",
            "\n"
          ]
        }
      ]
    },
    {
      "cell_type": "code",
      "source": [
        "library(cowplot)"
      ],
      "metadata": {
        "id": "V6LbjV6DPXiE"
      },
      "execution_count": 64,
      "outputs": []
    },
    {
      "cell_type": "code",
      "source": [
        "library(ggplot2)"
      ],
      "metadata": {
        "colab": {
          "base_uri": "https://localhost:8080/",
          "height": 419
        },
        "id": "e_PAwkbSjtU4",
        "outputId": "df13b4ef-a2ec-40e3-d2ea-802f83fbe318"
      },
      "execution_count": 65,
      "outputs": [
        {
          "output_type": "error",
          "ename": "ERROR",
          "evalue": "ignored",
          "traceback": [
            "Error in value[[3L]](cond): Package ‘ggplot2’ version 3.3.6 cannot be unloaded:\n Error in unloadNamespace(package) : namespace ‘ggplot2’ is imported by ‘cowplot’, ‘TCGAbiolinks’, ‘DESeq2’ so cannot be unloaded\n\nTraceback:\n",
            "1. library(ggplot2)",
            "2. tryCatch(unloadNamespace(package), error = function(e) {\n .     P <- if (!is.null(cc <- conditionCall(e))) \n .         paste(\"Error in\", deparse(cc)[1L], \": \")\n .     else \"Error : \"\n .     stop(gettextf(\"Package %s version %s cannot be unloaded:\\n %s\", \n .         sQuote(package), oldversion, paste0(P, conditionMessage(e), \n .             \"\\n\")), domain = NA)\n . })",
            "3. tryCatchList(expr, classes, parentenv, handlers)",
            "4. tryCatchOne(expr, names, parentenv, handlers[[1L]])",
            "5. value[[3L]](cond)",
            "6. stop(gettextf(\"Package %s version %s cannot be unloaded:\\n %s\", \n .     sQuote(package), oldversion, paste0(P, conditionMessage(e), \n .         \"\\n\")), domain = NA)"
          ]
        }
      ]
    },
    {
      "cell_type": "markdown",
      "source": [
        "## IV Differential Co-expressed Network"
      ],
      "metadata": {
        "id": "kHZg_lO3SLX7"
      }
    }
  ]
}